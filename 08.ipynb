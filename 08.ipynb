import pandas as pd
import matplotlib.pyplot as plt
import numpy as np
path = 'form.csv'
form_df = pd.read_csv(path)
#print(form_df)
import pandas as pd
from sklearn.datasets import load_iris

iris = load_iris()
iris_df = pd.DataFrame(data=iris['data'], columns=iris['feature_names'])
#iris_df.info()
#iris_df.head()
#iris_df.tail(
print(form_df.isnull())
print(form_df.dropna())
print(form_df.dropna(axis='columns'))
print(form_df.duplicated())